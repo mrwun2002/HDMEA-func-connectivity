{
 "cells": [
  {
   "cell_type": "code",
   "execution_count": null,
   "metadata": {},
   "outputs": [],
   "source": [
    "#https://github.com/brian-team/brian2\n",
    "#https://briansimulator.org/\n",
    "#conda install -c conda-forge brian2\n",
    "\n",
    "#https://renkulab.io/projects/christian.donner/deepephys-lif-simulations\n",
    "#https://journals.physiology.org/doi/full/10.1152/jn.00066.2020?rfr_dat=cr_pub++0pubmed&url_ver=Z39.88-2003&rfr_id=ori%3Arid%3Acrossref.org\n"
   ]
  }
 ],
 "metadata": {
  "language_info": {
   "name": "python"
  }
 },
 "nbformat": 4,
 "nbformat_minor": 2
}
