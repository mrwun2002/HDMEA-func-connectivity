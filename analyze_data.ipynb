{
 "cells": [
  {
   "cell_type": "code",
   "execution_count": 1,
   "metadata": {},
   "outputs": [
    {
     "name": "stdout",
     "output_type": "stream",
     "text": [
      "Jpype is not available on this system. Install it from https://pypi.python.org/pypi/JPype1 to use JAVA/JIDT-powered CMI estimation.\n",
      "\n"
     ]
    },
    {
     "name": "stderr",
     "output_type": "stream",
     "text": [
      "  File \"c:\\Users\\mrwun\\anaconda3\\envs\\func-conn\\Lib\\site-packages\\idtxl\\estimators_jidt.py\", line 9, in <module>\n",
      "    import jpype as jp\n"
     ]
    },
    {
     "name": "stdout",
     "output_type": "stream",
     "text": [
      "Using cpu device\n"
     ]
    }
   ],
   "source": [
    "import matplotlib.pyplot as plt\n",
    "import matplotlib as mpl\n",
    "import numpy as np\n",
    "import networkx as nx\n",
    "import sys\n",
    "import os\n",
    "import pandas as pd\n",
    "import spycon\n",
    "import glob\n",
    "\n",
    "#https://github.com/christiando/spycon\n",
    "#requires pip install git+https://github.com/christiando/spycon\n",
    "#https://github.com/pwollstadt/IDTxl\n",
    "#requires pip install git+https://github.com/pwollstadt/IDTxl\n",
    "import spycon_utils\n",
    "\n",
    "from typing import Tuple\n",
    "\n",
    "from sklearn.cluster import DBSCAN\n",
    "\n",
    "sys.path.append(\"..\")\n",
    "from analysis_package import maxlab_analysis as mla\n",
    "\n",
    "import shutil"
   ]
  },
  {
   "cell_type": "code",
   "execution_count": 2,
   "metadata": {},
   "outputs": [],
   "source": [
    "def get_filepath(div, well, remove_bursts = None): #In theory, can put in a parameter for all options, in order\n",
    "    filepath = f\"R:/Experimental Data/nathan_senior_project_analysis/stim_removal_network_graphs/DIV{div}/well_no={well}/\"\n",
    "    if remove_bursts is not None:\n",
    "        filepath += f\"remove_bursts={remove_bursts}/\"\n",
    "    return filepath"
   ]
  },
  {
   "cell_type": "code",
   "execution_count": 8,
   "metadata": {},
   "outputs": [
    {
     "name": "stdout",
     "output_type": "stream",
     "text": [
      "[Errno 2] No such file or directory: 'R:/Experimental Data/nathan_senior_project_analysis/stim_removal_network_graphs/DIV35/well_no=0/remove_bursts=False/network_preview_2.png'\n",
      "[Errno 2] No such file or directory: 'R:/Experimental Data/nathan_senior_project_analysis/stim_removal_network_graphs/DIV35/well_no=0/remove_bursts=True/network_preview_2.png'\n",
      "[Errno 2] No such file or directory: 'R:/Experimental Data/nathan_senior_project_analysis/stim_removal_network_graphs/DIV35/well_no=1/remove_bursts=False/network_preview_2.png'\n",
      "[Errno 2] No such file or directory: 'R:/Experimental Data/nathan_senior_project_analysis/stim_removal_network_graphs/DIV35/well_no=1/remove_bursts=True/network_preview_2.png'\n",
      "[Errno 2] No such file or directory: 'R:/Experimental Data/nathan_senior_project_analysis/stim_removal_network_graphs/DIV35/well_no=2/remove_bursts=False/network_preview_2.png'\n",
      "[Errno 2] No such file or directory: 'R:/Experimental Data/nathan_senior_project_analysis/stim_removal_network_graphs/DIV35/well_no=2/remove_bursts=True/network_preview_2.png'\n",
      "[Errno 2] No such file or directory: 'R:/Experimental Data/nathan_senior_project_analysis/stim_removal_network_graphs/DIV35/well_no=3/remove_bursts=False/network_preview_2.png'\n",
      "[Errno 2] No such file or directory: 'R:/Experimental Data/nathan_senior_project_analysis/stim_removal_network_graphs/DIV35/well_no=3/remove_bursts=True/network_preview_2.png'\n",
      "[Errno 2] No such file or directory: 'R:/Experimental Data/nathan_senior_project_analysis/stim_removal_network_graphs/DIV35/well_no=4/remove_bursts=False/network_preview_2.png'\n",
      "[Errno 2] No such file or directory: 'R:/Experimental Data/nathan_senior_project_analysis/stim_removal_network_graphs/DIV35/well_no=4/remove_bursts=True/network_preview_2.png'\n",
      "[Errno 2] No such file or directory: 'R:/Experimental Data/nathan_senior_project_analysis/stim_removal_network_graphs/DIV35/well_no=5/remove_bursts=False/network_preview_2.png'\n",
      "[Errno 2] No such file or directory: 'R:/Experimental Data/nathan_senior_project_analysis/stim_removal_network_graphs/DIV35/well_no=5/remove_bursts=True/network_preview_2.png'\n"
     ]
    }
   ],
   "source": [
    "days = [30, 33, 34, 35, 36, 37, 38, 40, 41]\n",
    "for div in days:\n",
    "    for well_no in range(6):\n",
    "        for remove_bursts in [False, True]:\n",
    "            new_dir = f\"data/images/remove_bursts={remove_bursts}/well_no={well_no}/\"\n",
    "            if not os.path.exists(new_dir):\n",
    "                os.makedirs(new_dir)\n",
    "\n",
    "            old_dir = get_filepath(div, well_no, remove_bursts)\n",
    "            try:\n",
    "                shutil.copy(f\"{old_dir}network_preview_2.png\", f\"{new_dir}DIV{div}_network_preview_2.png\")\n",
    "            except FileNotFoundError as err:\n",
    "                print(err)\n",
    "\n"
   ]
  },
  {
   "cell_type": "code",
   "execution_count": null,
   "metadata": {},
   "outputs": [],
   "source": []
  }
 ],
 "metadata": {
  "kernelspec": {
   "display_name": "func-conn",
   "language": "python",
   "name": "python3"
  },
  "language_info": {
   "codemirror_mode": {
    "name": "ipython",
    "version": 3
   },
   "file_extension": ".py",
   "mimetype": "text/x-python",
   "name": "python",
   "nbconvert_exporter": "python",
   "pygments_lexer": "ipython3",
   "version": "3.12.6"
  }
 },
 "nbformat": 4,
 "nbformat_minor": 2
}
